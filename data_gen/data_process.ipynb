{
 "cells": [
  {
   "cell_type": "markdown",
   "metadata": {},
   "source": [
    "# 300帧数据生成"
   ]
  },
  {
   "cell_type": "markdown",
   "metadata": {},
   "source": [
    "joint"
   ]
  },
  {
   "cell_type": "code",
   "execution_count": 1,
   "metadata": {},
   "outputs": [
    {
     "name": "stdout",
     "output_type": "stream",
     "text": [
      "100%|█████████████████████████████████████| 16487/16487 [03:45<00:00, 73.18it/s]\n",
      "100%|█████████████████████████████████████| 18932/18932 [04:08<00:00, 76.34it/s]\n",
      "100%|█████████████████████████████████████| 37646/37646 [08:13<00:00, 76.34it/s]\n",
      "100%|█████████████████████████████████████| 40091/40091 [08:30<00:00, 78.47it/s]\n"
     ]
    }
   ],
   "source": [
    "!python gen_joint.py"
   ]
  },
  {
   "cell_type": "markdown",
   "metadata": {},
   "source": [
    "bone"
   ]
  },
  {
   "cell_type": "code",
   "execution_count": 2,
   "metadata": {},
   "outputs": [
    {
     "name": "stdout",
     "output_type": "stream",
     "text": [
      "xview val\n",
      "xview train\n",
      "100%|███████████████████████████████████████████| 25/25 [01:05<00:00,  2.62s/it]\n",
      "100%|███████████████████████████████████████████| 25/25 [02:18<00:00,  5.52s/it]\n",
      "xsub val\n",
      "xsub train\n",
      "100%|███████████████████████████████████████████| 25/25 [00:59<00:00,  2.40s/it]\n",
      "100%|███████████████████████████████████████████| 25/25 [02:24<00:00,  5.77s/it]\n"
     ]
    }
   ],
   "source": [
    "!python gen_bone.py"
   ]
  },
  {
   "cell_type": "markdown",
   "metadata": {},
   "source": [
    "joint与bone各自的motion"
   ]
  },
  {
   "cell_type": "code",
   "execution_count": 4,
   "metadata": {},
   "outputs": [
    {
     "name": "stdout",
     "output_type": "stream",
     "text": [
      "xsub val bone\n",
      "100%|█████████████████████████████████████████| 299/299 [00:08<00:00, 37.15it/s]\n",
      "xsub val joint\n",
      "100%|█████████████████████████████████████████| 299/299 [00:06<00:00, 44.13it/s]\n",
      "xsub train bone\n",
      "100%|█████████████████████████████████████████| 299/299 [00:22<00:00, 13.21it/s]\n",
      "xsub train joint\n",
      "100%|█████████████████████████████████████████| 299/299 [00:17<00:00, 17.23it/s]\n",
      "xview val bone\n",
      "100%|█████████████████████████████████████████| 299/299 [00:10<00:00, 27.56it/s]\n",
      "xview val joint\n",
      "100%|█████████████████████████████████████████| 299/299 [00:15<00:00, 19.91it/s]\n",
      "xview train bone\n",
      "100%|█████████████████████████████████████████| 299/299 [00:28<00:00, 10.62it/s]\n",
      "xview train joint\n",
      "100%|█████████████████████████████████████████| 299/299 [00:30<00:00,  9.72it/s]\n"
     ]
    }
   ],
   "source": [
    "!python gen_motion.py"
   ]
  },
  {
   "cell_type": "markdown",
   "metadata": {},
   "source": [
    "合并joint与bone"
   ]
  },
  {
   "cell_type": "code",
   "execution_count": 6,
   "metadata": {},
   "outputs": [
    {
     "name": "stdout",
     "output_type": "stream",
     "text": [
      "xsub val\n",
      "xsub train\n",
      "xview val\n",
      "xview train\n"
     ]
    }
   ],
   "source": [
    "!python merge_joint_bone.py"
   ]
  },
  {
   "cell_type": "markdown",
   "metadata": {},
   "source": [
    "# 50帧"
   ]
  },
  {
   "cell_type": "code",
   "execution_count": 2,
   "metadata": {},
   "outputs": [
    {
     "name": "stdout",
     "output_type": "stream",
     "text": [
      "Traceback (most recent call last):\n",
      "  File \"/data/UO-STGCN/data_gen/gen_ntu_50f.py\", line 103, in <module>\n",
      "    gendata(arg.dataset_path, out_path, benchmark=b, part=p)\n",
      "  File \"/data/UO-STGCN/data_gen/gen_ntu_50f.py\", line 37, in gendata\n",
      "    dataset = NTUMotionProcessor(\n",
      "  File \"/data/UO-STGCN/data_gen/NTUDatasets.py\", line 166, in __init__\n",
      "    self.load_data(mmap)\n",
      "  File \"/data/UO-STGCN/data_gen/NTUDatasets.py\", line 171, in load_data\n",
      "    with open(self.label_path, 'rb') as f:\n",
      "FileNotFoundError: [Errno 2] No such file or directory: 'data/nturgb+d_skeletons/xsub/train_label.pkl'\n"
     ]
    }
   ],
   "source": [
    "!python gen_ntu_50f.py"
   ]
  },
  {
   "cell_type": "markdown",
   "metadata": {},
   "source": [
    "测试"
   ]
  },
  {
   "cell_type": "code",
   "execution_count": null,
   "metadata": {},
   "outputs": [
    {
     "name": "stdout",
     "output_type": "stream",
     "text": [
      "S001C003P004R002A038.skeleton\n",
      "37\n",
      "(40091, 3, 300, 25, 2)\n"
     ]
    }
   ],
   "source": [
    "import pickle\n",
    "import numpy as np\n",
    "\n",
    "path = 'data/xsub/train_label.pkl'\n",
    "with open(path, 'rb') as f:\n",
    "    data = pickle.load(f)\n",
    "    print(data[0][0])\n",
    "    print(data[1][0])\n",
    "\n",
    "path = 'data/xsub/train_bone.npy'\n",
    "x = np.load(path)\n",
    "print(x.shape)"
   ]
  },
  {
   "cell_type": "code",
   "execution_count": null,
   "metadata": {},
   "outputs": [],
   "source": []
  }
 ],
 "metadata": {
  "kernelspec": {
   "display_name": "scdnet",
   "language": "python",
   "name": "python3"
  },
  "language_info": {
   "codemirror_mode": {
    "name": "ipython",
    "version": 3
   },
   "file_extension": ".py",
   "mimetype": "text/x-python",
   "name": "python",
   "nbconvert_exporter": "python",
   "pygments_lexer": "ipython3",
   "version": "3.10.14"
  }
 },
 "nbformat": 4,
 "nbformat_minor": 2
}
