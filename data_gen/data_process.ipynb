{
 "cells": [
  {
   "cell_type": "markdown",
   "metadata": {},
   "source": [
    "300帧数据生成"
   ]
  },
  {
   "cell_type": "markdown",
   "metadata": {},
   "source": [
    "joint"
   ]
  },
  {
   "cell_type": "code",
   "execution_count": 1,
   "metadata": {},
   "outputs": [
    {
     "name": "stdout",
     "output_type": "stream",
     "text": [
      "100%|█████████████████████████████████████| 16487/16487 [07:08<00:00, 38.45it/s]\n",
      "100%|█████████████████████████████████████| 18932/18932 [07:52<00:00, 40.04it/s]\n",
      "100%|█████████████████████████████████████| 37646/37646 [15:42<00:00, 39.93it/s]\n",
      "100%|█████████████████████████████████████| 40091/40091 [16:18<00:00, 40.99it/s]\n"
     ]
    }
   ],
   "source": [
    "!python gen_joint.py"
   ]
  },
  {
   "cell_type": "markdown",
   "metadata": {},
   "source": [
    "bone"
   ]
  },
  {
   "cell_type": "code",
   "execution_count": 2,
   "metadata": {},
   "outputs": [
    {
     "name": "stdout",
     "output_type": "stream",
     "text": [
      "xview val\n",
      "xview train\n",
      "100%|███████████████████████████████████████████| 25/25 [01:05<00:00,  2.62s/it]\n",
      "100%|███████████████████████████████████████████| 25/25 [02:18<00:00,  5.52s/it]\n",
      "xsub val\n",
      "xsub train\n",
      "100%|███████████████████████████████████████████| 25/25 [00:59<00:00,  2.40s/it]\n",
      "100%|███████████████████████████████████████████| 25/25 [02:24<00:00,  5.77s/it]\n"
     ]
    }
   ],
   "source": [
    "!python gen_bone.py"
   ]
  },
  {
   "cell_type": "markdown",
   "metadata": {},
   "source": [
    "joint与bone各自的motion"
   ]
  },
  {
   "cell_type": "code",
   "execution_count": 4,
   "metadata": {},
   "outputs": [
    {
     "name": "stdout",
     "output_type": "stream",
     "text": [
      "xsub val bone\n",
      "100%|█████████████████████████████████████████| 299/299 [00:08<00:00, 37.15it/s]\n",
      "xsub val joint\n",
      "100%|█████████████████████████████████████████| 299/299 [00:06<00:00, 44.13it/s]\n",
      "xsub train bone\n",
      "100%|█████████████████████████████████████████| 299/299 [00:22<00:00, 13.21it/s]\n",
      "xsub train joint\n",
      "100%|█████████████████████████████████████████| 299/299 [00:17<00:00, 17.23it/s]\n",
      "xview val bone\n",
      "100%|█████████████████████████████████████████| 299/299 [00:10<00:00, 27.56it/s]\n",
      "xview val joint\n",
      "100%|█████████████████████████████████████████| 299/299 [00:15<00:00, 19.91it/s]\n",
      "xview train bone\n",
      "100%|█████████████████████████████████████████| 299/299 [00:28<00:00, 10.62it/s]\n",
      "xview train joint\n",
      "100%|█████████████████████████████████████████| 299/299 [00:30<00:00,  9.72it/s]\n"
     ]
    }
   ],
   "source": [
    "!python gen_motion.py"
   ]
  },
  {
   "cell_type": "markdown",
   "metadata": {},
   "source": [
    "合并joint与bone"
   ]
  },
  {
   "cell_type": "code",
   "execution_count": 6,
   "metadata": {},
   "outputs": [
    {
     "name": "stdout",
     "output_type": "stream",
     "text": [
      "xsub val\n",
      "xsub train\n",
      "xview val\n",
      "xview train\n"
     ]
    }
   ],
   "source": [
    "!python merge_joint_bone.py"
   ]
  },
  {
   "cell_type": "markdown",
   "metadata": {},
   "source": [
    "后处理为50帧"
   ]
  },
  {
   "cell_type": "code",
   "execution_count": 4,
   "metadata": {},
   "outputs": [
    {
     "name": "stdout",
     "output_type": "stream",
     "text": [
      "data/xsub/train_label.pkl\n",
      "data/xsub/train_joint.npy\n",
      "34it [00:03, 11.56it/s]^C\n",
      "35it [00:03, 10.20it/s]\n",
      "Traceback (most recent call last):\n",
      "  File \"/mnt/bs_ssl/workspace/UO-STGCN/data_gen/gen_ntu_50f.py\", line 68, in <module>\n",
      "    gendata(arg.dataset_path, out_path, benchmark=b, part=p)\n",
      "  File \"/mnt/bs_ssl/workspace/UO-STGCN/data_gen/gen_ntu_50f.py\", line 44, in gendata\n",
      "    for i, (data, motion, label) in tqdm(enumerate(data_loader)):\n",
      "  File \"/mnt/bs_ssl/conda-envs/uostgcn/lib/python3.11/site-packages/tqdm/std.py\", line 1181, in __iter__\n",
      "    for obj in iterable:\n",
      "  File \"/mnt/bs_ssl/conda-envs/uostgcn/lib/python3.11/site-packages/torch/utils/data/dataloader.py\", line 631, in __next__\n",
      "    data = self._next_data()\n",
      "           ^^^^^^^^^^^^^^^^^\n",
      "  File \"/mnt/bs_ssl/conda-envs/uostgcn/lib/python3.11/site-packages/torch/utils/data/dataloader.py\", line 1329, in _next_data\n",
      "    idx, data = self._get_data()\n",
      "                ^^^^^^^^^^^^^^^^\n",
      "  File \"/mnt/bs_ssl/conda-envs/uostgcn/lib/python3.11/site-packages/torch/utils/data/dataloader.py\", line 1295, in _get_data\n",
      "    success, data = self._try_get_data()\n",
      "                    ^^^^^^^^^^^^^^^^^^^^\n",
      "  File \"/mnt/bs_ssl/conda-envs/uostgcn/lib/python3.11/site-packages/torch/utils/data/dataloader.py\", line 1133, in _try_get_data\n",
      "    data = self._data_queue.get(timeout=timeout)\n",
      "           ^^^^^^^^^^^^^^^^^^^^^^^^^^^^^^^^^^^^^\n",
      "  File \"/mnt/bs_ssl/conda-envs/uostgcn/lib/python3.11/multiprocessing/queues.py\", line 113, in get\n",
      "    if not self._poll(timeout):\n",
      "           ^^^^^^^^^^^^^^^^^^^\n",
      "  File \"/mnt/bs_ssl/conda-envs/uostgcn/lib/python3.11/multiprocessing/connection.py\", line 257, in poll\n",
      "    return self._poll(timeout)\n",
      "           ^^^^^^^^^^^^^^^^^^^\n",
      "  File \"/mnt/bs_ssl/conda-envs/uostgcn/lib/python3.11/multiprocessing/connection.py\", line 440, in _poll\n",
      "    r = wait([self], timeout)\n",
      "        ^^^^^^^^^^^^^^^^^^^^^\n",
      "  File \"/mnt/bs_ssl/conda-envs/uostgcn/lib/python3.11/multiprocessing/connection.py\", line 948, in wait\n",
      "    ready = selector.select(timeout)\n",
      "            ^^^^^^^^^^^^^^^^^^^^^^^^\n",
      "  File \"/mnt/bs_ssl/conda-envs/uostgcn/lib/python3.11/selectors.py\", line 415, in select\n",
      "    fd_event_list = self._selector.poll(timeout)\n",
      "                    ^^^^^^^^^^^^^^^^^^^^^^^^^^^^\n",
      "KeyboardInterrupt\n"
     ]
    }
   ],
   "source": [
    "!python gen_ntu_50f.py"
   ]
  },
  {
   "cell_type": "markdown",
   "metadata": {},
   "source": [
    "后处理为64帧"
   ]
  },
  {
   "cell_type": "code",
   "execution_count": 3,
   "metadata": {},
   "outputs": [
    {
     "name": "stdout",
     "output_type": "stream",
     "text": [
      "xview train\n",
      "xview val\n",
      "xsub train\n",
      "xsub val\n",
      "100%|████████████████████████████████████| 16487/16487 [01:08<00:00, 241.07it/s]\n",
      "100%|████████████████████████████████████| 18932/18932 [01:14<00:00, 253.86it/s]\n",
      "100%|████████████████████████████████████| 37646/37646 [02:33<00:00, 245.90it/s]\n",
      "100%|████████████████████████████████████| 40091/40091 [02:34<00:00, 259.44it/s]\n"
     ]
    }
   ],
   "source": [
    "!python gen_ntu_64f.py"
   ]
  },
  {
   "cell_type": "markdown",
   "metadata": {},
   "source": [
    "测试"
   ]
  },
  {
   "cell_type": "code",
   "execution_count": 1,
   "metadata": {},
   "outputs": [],
   "source": [
    "import pickle\n",
    "import numpy as np"
   ]
  },
  {
   "cell_type": "code",
   "execution_count": 5,
   "metadata": {},
   "outputs": [
    {
     "name": "stdout",
     "output_type": "stream",
     "text": [
      "S001C003P004R002A038.skeleton\n",
      "37\n"
     ]
    }
   ],
   "source": [
    "path = 'data/xsub/train_label.pkl'\n",
    "with open(path, 'rb') as f:\n",
    "    label = pickle.load(f)\n",
    "    print(label[0][0])\n",
    "    print(label[1][0])"
   ]
  },
  {
   "cell_type": "code",
   "execution_count": 2,
   "metadata": {},
   "outputs": [
    {
     "name": "stdout",
     "output_type": "stream",
     "text": [
      "(40091, 3, 300, 25, 2)\n"
     ]
    }
   ],
   "source": [
    "path = 'data/xsub/train_joint.npy'\n",
    "data = np.load(path)\n",
    "print(data.shape)"
   ]
  },
  {
   "cell_type": "code",
   "execution_count": 2,
   "metadata": {},
   "outputs": [
    {
     "name": "stdout",
     "output_type": "stream",
     "text": [
      "(16487, 3, 300, 25, 2)\n"
     ]
    }
   ],
   "source": [
    "path = 'data/xsub/val_joint.npy'\n",
    "data = np.load(path)\n",
    "print(data.shape)"
   ]
  },
  {
   "cell_type": "code",
   "execution_count": null,
   "metadata": {},
   "outputs": [],
   "source": []
  }
 ],
 "metadata": {
  "kernelspec": {
   "display_name": "scdnet",
   "language": "python",
   "name": "python3"
  },
  "language_info": {
   "codemirror_mode": {
    "name": "ipython",
    "version": 3
   },
   "file_extension": ".py",
   "mimetype": "text/x-python",
   "name": "python",
   "nbconvert_exporter": "python",
   "pygments_lexer": "ipython3",
   "version": "3.10.14"
  }
 },
 "nbformat": 4,
 "nbformat_minor": 2
}
