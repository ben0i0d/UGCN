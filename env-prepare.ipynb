{
 "cells": [
  {
   "cell_type": "code",
   "execution_count": 1,
   "metadata": {},
   "outputs": [
    {
     "name": "stdout",
     "output_type": "stream",
     "text": [
      "Writing to /root/.config/pip/pip.conf\n"
     ]
    }
   ],
   "source": [
    "!pip config set global.index-url https://mirrors.bfsu.edu.cn/pypi/web/simple"
   ]
  },
  {
   "cell_type": "markdown",
   "metadata": {},
   "source": [
    "Rocm-Torch \n",
    "\n",
    "FOR CN"
   ]
  },
  {
   "cell_type": "code",
   "execution_count": 1,
   "metadata": {},
   "outputs": [
    {
     "name": "stdout",
     "output_type": "stream",
     "text": [
      "Looking in indexes: https://mirrors.bfsu.edu.cn/pypi/web/simple\n",
      "Looking in links: https://mirror.sjtu.edu.cn/pytorch-wheels/nightly/rocm6.1/torch_nightly.html\n",
      "Collecting torch\n",
      "  Using cached https://mirror.sjtu.edu.cn/pytorch-wheels/nightly/rocm6.1/torch-2.4.0.dev20240605%2Brocm6.1-cp310-cp310-linux_x86_64.whl (2498.2 MB)\n",
      "Collecting torchvision\n",
      "  Using cached https://mirror.sjtu.edu.cn/pytorch-wheels/nightly/rocm6.1/torchvision-0.19.0.dev20240605%2Brocm6.1-cp310-cp310-linux_x86_64.whl (72.7 MB)\n",
      "Collecting torchaudio\n",
      "  Using cached https://mirrors.bfsu.edu.cn/pypi/web/packages/8e/2a/f33c0f2d9cc51a2f33e13902c47fafac1bad0c3a02077382e869bd9939c2/torchaudio-2.3.1-cp310-cp310-manylinux1_x86_64.whl (3.3 MB)\n",
      "Collecting filelock (from torch)\n",
      "  Using cached https://mirrors.bfsu.edu.cn/pypi/web/packages/ae/f0/48285f0262fe47103a4a45972ed2f9b93e4c80b8fd609fa98da78b2a5706/filelock-3.15.4-py3-none-any.whl (16 kB)\n",
      "Requirement already satisfied: typing-extensions>=4.8.0 in /mnt/bs_nsl/workspace/.venv/lib/python3.10/site-packages (from torch) (4.12.2)\n",
      "Collecting sympy (from torch)\n",
      "  Using cached https://mirrors.bfsu.edu.cn/pypi/web/packages/e8/a5/8a94ad5dcd90c012acdbbcfcdf02c10276dc7496fe8f9c3b4518cf48226d/sympy-1.13.0rc4-py3-none-any.whl (6.2 MB)\n",
      "Collecting networkx (from torch)\n",
      "  Using cached https://mirrors.bfsu.edu.cn/pypi/web/packages/38/e9/5f72929373e1a0e8d142a130f3f97e6ff920070f87f91c4e13e40e0fba5a/networkx-3.3-py3-none-any.whl (1.7 MB)\n",
      "Collecting jinja2 (from torch)\n",
      "  Using cached https://mirrors.bfsu.edu.cn/pypi/web/packages/31/80/3a54838c3fb461f6fec263ebf3a3a41771bd05190238de3486aae8540c36/jinja2-3.1.4-py3-none-any.whl (133 kB)\n",
      "Collecting fsspec (from torch)\n",
      "  Using cached https://mirrors.bfsu.edu.cn/pypi/web/packages/5e/44/73bea497ac69bafde2ee4269292fa3b41f1198f4bb7bbaaabde30ad29d4a/fsspec-2024.6.1-py3-none-any.whl (177 kB)\n",
      "Collecting pytorch-triton-rocm==3.0.0+bbe6246e37 (from torch)\n",
      "  Using cached https://mirror.sjtu.edu.cn/pytorch-wheels/nightly/pytorch_triton_rocm-3.0.0%2Bbbe6246e37-cp310-cp310-linux_x86_64.whl (330.5 MB)\n",
      "Collecting numpy (from torchvision)\n",
      "  Using cached https://mirrors.bfsu.edu.cn/pypi/web/packages/d6/a8/6a2419c40c7b6f7cb4ef52c532c88e55490c4fa92885964757d507adddce/numpy-2.0.0-cp310-cp310-manylinux_2_17_x86_64.manylinux2014_x86_64.whl (19.3 MB)\n",
      "Collecting pillow!=8.3.*,>=5.3.0 (from torchvision)\n",
      "  Using cached https://mirrors.bfsu.edu.cn/pypi/web/packages/b5/5b/6651c288b08df3b8c1e2f8c1152201e0b25d240e22ddade0f1e242fc9fa0/pillow-10.4.0-cp310-cp310-manylinux_2_28_x86_64.whl (4.5 MB)\n",
      "INFO: pip is looking at multiple versions of torchaudio to determine which version is compatible with other requirements. This could take a while.\n",
      "Collecting torchaudio\n",
      "  Using cached https://mirrors.bfsu.edu.cn/pypi/web/packages/f5/35/bc3d7f953a0ad20511039f414c3f9c813b32c108b55fc1be5349a36ead6b/torchaudio-2.3.0-cp310-cp310-manylinux1_x86_64.whl (3.3 MB)\n",
      "  Using cached https://mirrors.bfsu.edu.cn/pypi/web/packages/73/ce/75bb2a9340a2a8d6fd61fcd1e6e386a75ba2a0fb72a0f1ded18c2b1c4bd1/torchaudio-2.2.2-cp310-cp310-manylinux1_x86_64.whl (3.3 MB)\n",
      "  Using cached https://mirrors.bfsu.edu.cn/pypi/web/packages/ce/99/7485966a902905e206eda57fdca8de69545c107e33eefe9f6536c2dda16c/torchaudio-2.2.1-cp310-cp310-manylinux1_x86_64.whl (3.3 MB)\n",
      "  Using cached https://mirrors.bfsu.edu.cn/pypi/web/packages/30/fc/cdcf7c2071539ea147ddb6de2b538d9c1599665b621f2e6cf0b3ef51d20d/torchaudio-2.2.0-cp310-cp310-manylinux1_x86_64.whl (3.3 MB)\n",
      "  Using cached https://mirror.sjtu.edu.cn/pytorch-wheels/nightly/rocm6.1/torchaudio-2.2.0.dev20240605%2Brocm6.1-cp310-cp310-linux_x86_64.whl (1.7 MB)\n",
      "Collecting MarkupSafe>=2.0 (from jinja2->torch)\n",
      "  Using cached https://mirrors.bfsu.edu.cn/pypi/web/packages/7c/52/2b1b570f6b8b803cef5ac28fdf78c0da318916c7d2fe9402a84d591b394c/MarkupSafe-2.1.5-cp310-cp310-manylinux_2_17_x86_64.manylinux2014_x86_64.whl (25 kB)\n",
      "Collecting mpmath<1.4,>=1.1.0 (from sympy->torch)\n",
      "  Using cached https://mirrors.bfsu.edu.cn/pypi/web/packages/43/e3/7d92a15f894aa0c9c4b49b8ee9ac9850d6e63b03c9c32c0367a13ae62209/mpmath-1.3.0-py3-none-any.whl (536 kB)\n",
      "Installing collected packages: mpmath, sympy, pillow, numpy, networkx, MarkupSafe, fsspec, filelock, pytorch-triton-rocm, jinja2, torch, torchvision, torchaudio\n",
      "Successfully installed MarkupSafe-2.1.5 filelock-3.15.4 fsspec-2024.6.1 jinja2-3.1.4 mpmath-1.3.0 networkx-3.3 numpy-2.0.0 pillow-10.4.0 pytorch-triton-rocm-3.0.0+bbe6246e37 sympy-1.13.0rc4 torch-2.4.0.dev20240605+rocm6.1 torchaudio-2.2.0.dev20240605+rocm6.1 torchvision-0.19.0.dev20240605+rocm6.1\n"
     ]
    }
   ],
   "source": [
    "!pip install --pre torch torchvision torchaudio -f https://mirror.sjtu.edu.cn/pytorch-wheels/nightly/rocm6.1/torch_nightly.html"
   ]
  },
  {
   "cell_type": "code",
   "execution_count": 1,
   "metadata": {},
   "outputs": [
    {
     "name": "stdout",
     "output_type": "stream",
     "text": [
      "Looking in indexes: https://mirrors.bfsu.edu.cn/pypi/web/simple\n",
      "Requirement already satisfied: pyyaml in /mnt/bs_nsl/workspace/.venv/lib/python3.10/site-packages (6.0.1)\n",
      "Requirement already satisfied: tensorboardX in /mnt/bs_nsl/workspace/.venv/lib/python3.10/site-packages (2.6.2.2)\n",
      "Requirement already satisfied: einops in /mnt/bs_nsl/workspace/.venv/lib/python3.10/site-packages (0.8.0)\n",
      "Requirement already satisfied: h5py in /mnt/bs_nsl/workspace/.venv/lib/python3.10/site-packages (3.11.0)\n",
      "Requirement already satisfied: scikit-learn in /mnt/bs_nsl/workspace/.venv/lib/python3.10/site-packages (1.5.1)\n",
      "Collecting tqdm\n",
      "  Downloading https://mirrors.bfsu.edu.cn/pypi/web/packages/18/eb/fdb7eb9e48b7b02554e1664afd3bd3f117f6b6d6c5881438a0b055554f9b/tqdm-4.66.4-py3-none-any.whl (78 kB)\n",
      "\u001b[2K     \u001b[90m━━━━━━━━━━━━━━━━━━━━━━━━━━━━━━━━━━━━━━━\u001b[0m \u001b[32m78.3/78.3 kB\u001b[0m \u001b[31m463.3 kB/s\u001b[0m eta \u001b[36m0:00:00\u001b[0m \u001b[36m0:00:01\u001b[0m\n",
      "\u001b[?25hRequirement already satisfied: numpy in /mnt/bs_nsl/workspace/.venv/lib/python3.10/site-packages (from tensorboardX) (2.0.0)\n",
      "Requirement already satisfied: packaging in /mnt/bs_nsl/workspace/.venv/lib/python3.10/site-packages (from tensorboardX) (24.1)\n",
      "Requirement already satisfied: protobuf>=3.20 in /mnt/bs_nsl/workspace/.venv/lib/python3.10/site-packages (from tensorboardX) (5.27.2)\n",
      "Requirement already satisfied: scipy>=1.6.0 in /mnt/bs_nsl/workspace/.venv/lib/python3.10/site-packages (from scikit-learn) (1.14.0)\n",
      "Requirement already satisfied: joblib>=1.2.0 in /mnt/bs_nsl/workspace/.venv/lib/python3.10/site-packages (from scikit-learn) (1.4.2)\n",
      "Requirement already satisfied: threadpoolctl>=3.1.0 in /mnt/bs_nsl/workspace/.venv/lib/python3.10/site-packages (from scikit-learn) (3.5.0)\n",
      "Installing collected packages: tqdm\n",
      "Successfully installed tqdm-4.66.4\n"
     ]
    }
   ],
   "source": [
    "!pip install pyyaml tensorboardX einops h5py scikit-learn tqdm"
   ]
  },
  {
   "cell_type": "markdown",
   "metadata": {},
   "source": [
    "test"
   ]
  },
  {
   "cell_type": "code",
   "execution_count": 3,
   "metadata": {},
   "outputs": [
    {
     "name": "stdout",
     "output_type": "stream",
     "text": [
      "True\n"
     ]
    }
   ],
   "source": [
    "!python3 -c 'import torch; print(torch.cuda.is_available())'"
   ]
  },
  {
   "cell_type": "code",
   "execution_count": 4,
   "metadata": {},
   "outputs": [
    {
     "name": "stdout",
     "output_type": "stream",
     "text": [
      "device name [0]: Radeon RX 7900 XTX\n"
     ]
    }
   ],
   "source": [
    "!python3 -c \"import torch; print(f'device name [0]:', torch.cuda.get_device_name(0))\""
   ]
  },
  {
   "cell_type": "code",
   "execution_count": null,
   "metadata": {},
   "outputs": [],
   "source": []
  }
 ],
 "metadata": {
  "kernelspec": {
   "display_name": "uostgcn",
   "language": "python",
   "name": "python3"
  },
  "language_info": {
   "codemirror_mode": {
    "name": "ipython",
    "version": 3
   },
   "file_extension": ".py",
   "mimetype": "text/x-python",
   "name": "python",
   "nbconvert_exporter": "python",
   "pygments_lexer": "ipython3",
   "version": "3.10.12"
  }
 },
 "nbformat": 4,
 "nbformat_minor": 2
}
