{
 "cells": [
  {
   "cell_type": "code",
   "execution_count": 2,
   "metadata": {},
   "outputs": [
    {
     "name": "stdout",
     "output_type": "stream",
     "text": [
      "pretrain.py --epoch 1\n",
      "{\"epoch\": 1, \"step\": 0, \"learning_rate\": 0.0, \"loss\": 4.039488792419434, \"time\": 3}\n",
      "{\"epoch\": 1, \"step\": 200, \"learning_rate\": 0.007987220447284345, \"loss\": 1.4481254816055298, \"time\": 60}\n",
      "{\"epoch\": 1, \"step\": 400, \"learning_rate\": 0.01597444089456869, \"loss\": 1.3311047554016113, \"time\": 122}\n",
      "{\"epoch\": 1, \"step\": 600, \"learning_rate\": 0.023961661341853034, \"loss\": 1.7276155948638916, \"time\": 182}\n",
      "{\"epoch\": 1, \"step\": 800, \"learning_rate\": 0.03194888178913738, \"loss\": 1.205322504043579, \"time\": 241}\n",
      "{\"epoch\": 1, \"step\": 1000, \"learning_rate\": 0.039936102236421724, \"loss\": 1.5807379484176636, \"time\": 300}\n",
      "{\"epoch\": 1, \"step\": 1200, \"learning_rate\": 0.04792332268370607, \"loss\": 1.0620460510253906, \"time\": 357}\n"
     ]
    }
   ],
   "source": [
    "!python pretrain.py --epoch 1"
   ]
  },
  {
   "cell_type": "code",
   "execution_count": 10,
   "metadata": {},
   "outputs": [
    {
     "name": "stdout",
     "output_type": "stream",
     "text": [
      "evaluate.py --epoch 10 --pretrained ./runs/pretrain/1/stgcn.pth\n",
      "{\"epoch\": 9, \"step\": 11268, \"lr_backbone\": 0, \"lr_classifier\": 0.0, \"loss\": 1072552.875, \"acc1\": 6.25, \"acc5\": 18.75, \"time\": 1}\n",
      "{\"epoch\": 9, \"step\": 12268, \"lr_backbone\": 0, \"lr_classifier\": 0.0, \"loss\": 1428776.0, \"acc1\": 2.978271728271728, \"acc5\": 12.440684315684315, \"time\": 16}\n",
      "{\"epoch\": 9, \"acc1\": 2.9931904913460854, \"acc5\": 12.521513556325573, \"best_acc1\": 2.9931904913460854, \"best_acc5\": 12.521513556325573}\n"
     ]
    }
   ],
   "source": [
    "!python evaluate.py --epoch 10 --pretrained './runs/pretrain/1/stgcn.pth'"
   ]
  },
  {
   "cell_type": "code",
   "execution_count": null,
   "metadata": {},
   "outputs": [],
   "source": []
  }
 ],
 "metadata": {
  "kernelspec": {
   "display_name": "torch",
   "language": "python",
   "name": "python3"
  },
  "language_info": {
   "codemirror_mode": {
    "name": "ipython",
    "version": 3
   },
   "file_extension": ".py",
   "mimetype": "text/x-python",
   "name": "python",
   "nbconvert_exporter": "python",
   "pygments_lexer": "ipython3",
   "version": "3.10.14"
  }
 },
 "nbformat": 4,
 "nbformat_minor": 2
}
