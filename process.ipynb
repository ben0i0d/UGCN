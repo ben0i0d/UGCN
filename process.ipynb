{
 "cells": [
  {
   "cell_type": "code",
   "execution_count": 1,
   "metadata": {},
   "outputs": [
    {
     "name": "stdout",
     "output_type": "stream",
     "text": [
      "pretrain_2l_1.py --epoch 3\n",
      "^C\n",
      "Traceback (most recent call last):\n",
      "  File \"/data/UO-STGCN/pretrain_2l_1.py\", line 413, in <module>\n",
      "    main()\n",
      "  File \"/data/UO-STGCN/pretrain_2l_1.py\", line 89, in main\n",
      "    main_worker(args.dev, args)\n",
      "  File \"/data/UO-STGCN/pretrain_2l_1.py\", line 103, in main_worker\n",
      "    model = BYOL(args).cuda(gpu)\n",
      "  File \"/data/UO-STGCN/pretrain_2l_1.py\", line 275, in __init__\n",
      "    Model = import_class(args.model)\n",
      "  File \"/data/UO-STGCN/torchlight/io.py\", line 183, in import_class\n",
      "    __import__(mod_str)\n",
      "  File \"/data/UO-STGCN/net/st_gcn.py\", line 7, in <module>\n",
      "    from net.utils.graph import Graph\n",
      "  File \"/data/UO-STGCN/net/utils/graph.py\", line 3, in <module>\n",
      "    from scipy.linalg import fractional_matrix_power, inv\n",
      "  File \"/data/miniconda/envs/torch/lib/python3.10/site-packages/scipy/linalg/__init__.py\", line 205, in <module>\n",
      "    from ._basic import *\n",
      "  File \"/data/miniconda/envs/torch/lib/python3.10/site-packages/scipy/linalg/_basic.py\", line 13, in <module>\n",
      "    from ._decomp import _asarray_validated\n",
      "  File \"/data/miniconda/envs/torch/lib/python3.10/site-packages/scipy/linalg/_decomp.py\", line 26, in <module>\n",
      "    from scipy._lib._util import _asarray_validated\n",
      "  File \"/data/miniconda/envs/torch/lib/python3.10/site-packages/scipy/_lib/_util.py\", line 18, in <module>\n",
      "    from scipy._lib._array_api import array_namespace\n",
      "  File \"/data/miniconda/envs/torch/lib/python3.10/site-packages/scipy/_lib/_array_api.py\", line 17, in <module>\n",
      "    from scipy._lib.array_api_compat import (\n",
      "  File \"/data/miniconda/envs/torch/lib/python3.10/site-packages/scipy/_lib/array_api_compat/numpy/__init__.py\", line 16, in <module>\n",
      "    __import__(__package__ + '.linalg')\n",
      "  File \"/data/miniconda/envs/torch/lib/python3.10/site-packages/scipy/_lib/array_api_compat/numpy/linalg.py\", line 33, in <module>\n",
      "    vector_norm = get_xp(np)(_linalg.vector_norm)\n",
      "  File \"/data/miniconda/envs/torch/lib/python3.10/site-packages/scipy/_lib/array_api_compat/_internal.py\", line 30, in inner\n",
      "    new_sig = sig.replace(parameters=[sig.parameters[i] for i in sig.parameters if i != 'xp'])\n",
      "  File \"/data/miniconda/envs/torch/lib/python3.10/inspect.py\", line 3026, in replace\n",
      "    return type(self)(parameters,\n",
      "  File \"/data/miniconda/envs/torch/lib/python3.10/inspect.py\", line 2938, in __init__\n",
      "    if kind < top_kind:\n",
      "KeyboardInterrupt\n"
     ]
    }
   ],
   "source": [
    "!python pretrain_3l.py --epoch 50"
   ]
  },
  {
   "cell_type": "code",
   "execution_count": 2,
   "metadata": {},
   "outputs": [
    {
     "name": "stdout",
     "output_type": "stream",
     "text": [
      "evaluate.py --epoch 6 --pretrained ./runs/pretrain/1/stgcn.pth\n",
      "{\"epoch\": 5, \"step\": 6260, \"lr_backbone\": 0, \"lr_classifier\": 0.22500000000000014, \"loss\": 4.596749782562256, \"acc1\": 0.0, \"acc5\": 3.125, \"time\": 1}\n",
      "{\"epoch\": 5, \"step\": 7260, \"lr_backbone\": 0, \"lr_classifier\": 0.22500000000000014, \"loss\": 5.334486961364746, \"acc1\": 1.6764485514485514, \"acc5\": 8.482142857142858, \"time\": 16}\n",
      "{\"epoch\": 5, \"acc1\": 1.5770000606538486, \"acc5\": 8.303511857769536, \"best_acc1\": 1.8135500697519258, \"best_acc5\": 8.461211863892764}\n"
     ]
    }
   ],
   "source": [
    "!python evaluate.py --epoch 6 --pretrained './runs/pretrain/1/stgcn.pth'"
   ]
  },
  {
   "cell_type": "code",
   "execution_count": null,
   "metadata": {},
   "outputs": [],
   "source": []
  }
 ],
 "metadata": {
  "kernelspec": {
   "display_name": "torch",
   "language": "python",
   "name": "python3"
  },
  "language_info": {
   "codemirror_mode": {
    "name": "ipython",
    "version": 3
   },
   "file_extension": ".py",
   "mimetype": "text/x-python",
   "name": "python",
   "nbconvert_exporter": "python",
   "pygments_lexer": "ipython3",
   "version": "3.10.14"
  }
 },
 "nbformat": 4,
 "nbformat_minor": 2
}
